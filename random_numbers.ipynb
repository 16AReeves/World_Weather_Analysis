{
 "cells": [
  {
   "cell_type": "code",
   "execution_count": 1,
   "id": "30ec09b4",
   "metadata": {},
   "outputs": [],
   "source": [
    "# Import the random module.\n",
    "import random"
   ]
  },
  {
   "cell_type": "code",
   "execution_count": 2,
   "id": "46c0c22d",
   "metadata": {},
   "outputs": [
    {
     "data": {
      "text/plain": [
       "59"
      ]
     },
     "execution_count": 2,
     "metadata": {},
     "output_type": "execute_result"
    }
   ],
   "source": [
    "# Random funtion for integers\n",
    "random.randint(-90, 90)"
   ]
  },
  {
   "cell_type": "code",
   "execution_count": 3,
   "id": "53a82259",
   "metadata": {},
   "outputs": [
    {
     "data": {
      "text/plain": [
       "0.10839368379392889"
      ]
     },
     "execution_count": 3,
     "metadata": {},
     "output_type": "execute_result"
    }
   ],
   "source": [
    "# Random fx for floating point #s\n",
    "random.random()"
   ]
  },
  {
   "cell_type": "code",
   "execution_count": 4,
   "id": "4ff6bfc9",
   "metadata": {},
   "outputs": [
    {
     "data": {
      "text/plain": [
       "-27.796141808262202"
      ]
     },
     "execution_count": 4,
     "metadata": {},
     "output_type": "execute_result"
    }
   ],
   "source": [
    "# Random fx for floating point #s\n",
    "random_number = random.randint(-90,89) + random.random()\n",
    "random_number"
   ]
  },
  {
   "cell_type": "code",
   "execution_count": 5,
   "id": "fe44a26d",
   "metadata": {},
   "outputs": [
    {
     "data": {
      "text/plain": [
       "[-70.77897449013851,\n",
       " -77.72788033180761,\n",
       " -56.80531219008828,\n",
       " -44.56222517284041,\n",
       " 34.22347316573917,\n",
       " -44.79320289985752,\n",
       " -46.77831763635685,\n",
       " 20.08372719048802,\n",
       " 1.8676878343652437,\n",
       " 8.44318352172068]"
      ]
     },
     "execution_count": 5,
     "metadata": {},
     "output_type": "execute_result"
    }
   ],
   "source": [
    "# Generating 10 random #s/random Latitudes\n",
    "x = 1\n",
    "latitudes = []\n",
    "while x < 11:\n",
    "    random_lat = random.randint(-90, 89) + random.random()\n",
    "    latitudes.append(random_lat)\n",
    "    x += 1\n",
    "latitudes"
   ]
  },
  {
   "cell_type": "code",
   "execution_count": 6,
   "id": "ba532536",
   "metadata": {},
   "outputs": [
    {
     "data": {
      "text/plain": [
       "-8"
      ]
     },
     "execution_count": 6,
     "metadata": {},
     "output_type": "execute_result"
    }
   ],
   "source": [
    "# Random fx that introduces a range plus random numbers \n",
    "#in a certain step pattern. if you leave the step blank, the default\n",
    "# for this fx is = 1\n",
    "random.randrange(-90,90, step=1)"
   ]
  },
  {
   "cell_type": "code",
   "execution_count": 7,
   "id": "31a4a251",
   "metadata": {},
   "outputs": [
    {
     "data": {
      "text/plain": [
       "27"
      ]
     },
     "execution_count": 7,
     "metadata": {},
     "output_type": "execute_result"
    }
   ],
   "source": [
    "# Use step = 3\n",
    "random.randrange(-90,90,step = 3)"
   ]
  },
  {
   "cell_type": "code",
   "execution_count": 8,
   "id": "6b5045fa",
   "metadata": {},
   "outputs": [
    {
     "data": {
      "text/plain": [
       "76.31927913074165"
      ]
     },
     "execution_count": 8,
     "metadata": {},
     "output_type": "execute_result"
    }
   ],
   "source": [
    "# Uniform random fx\n",
    "random.uniform(-90,90)"
   ]
  },
  {
   "cell_type": "code",
   "execution_count": 9,
   "id": "d27111be",
   "metadata": {},
   "outputs": [],
   "source": [
    "# Import the NumPy module.\n",
    "import numpy as np"
   ]
  },
  {
   "cell_type": "code",
   "execution_count": 10,
   "id": "750d7d54",
   "metadata": {},
   "outputs": [
    {
     "data": {
      "text/plain": [
       "-44.72840991643905"
      ]
     },
     "execution_count": 10,
     "metadata": {},
     "output_type": "execute_result"
    }
   ],
   "source": [
    "# Using numpy to generate random lat and long numbers\n",
    "np.random.uniform(-90.000, 90.000)\n",
    "# could write this as np.random.uniform(low=-90, high=90)"
   ]
  },
  {
   "cell_type": "code",
   "execution_count": 12,
   "id": "c436147c",
   "metadata": {},
   "outputs": [
    {
     "data": {
      "text/plain": [
       "array([ 47.8832496 ,   6.11988207, -75.29626912,  56.05236694,\n",
       "        86.30815654,  61.73568582, -82.19913195,  -1.50687346,\n",
       "        82.05097748,  76.95151388, -19.82340069,  73.13694434,\n",
       "        36.88059307,  55.70616137, -89.61333946, -25.4694405 ,\n",
       "        34.39588174,  82.1679683 , -13.43438847,  18.34649334,\n",
       "        22.66646447, -30.1075921 , -42.85579679, -67.66188007,\n",
       "        45.66778045,  12.09362764, -41.92677697,  12.01120144,\n",
       "       -79.51982707, -45.90077167, -18.56501061,  40.37310503,\n",
       "       -19.47494349, -76.92168976,  69.5058158 ,  71.70082835,\n",
       "        77.8807598 , -48.26867259, -30.49839133, -15.99084556,\n",
       "       -13.53791535, -11.62176511, -42.18065314, -27.18290539,\n",
       "       -85.07764792, -20.07065711, -63.47183367, -67.49389628,\n",
       "        -0.89726977, -32.99350158])"
      ]
     },
     "execution_count": 12,
     "metadata": {},
     "output_type": "execute_result"
    }
   ],
   "source": [
    "# Generate 50 random numbers\n",
    "np.random.uniform(-90.000, 90.000, size=50)"
   ]
  },
  {
   "cell_type": "code",
   "execution_count": 13,
   "id": "a2ba5a3e",
   "metadata": {},
   "outputs": [],
   "source": [
    "# Import timeit.\n",
    "import timeit"
   ]
  },
  {
   "cell_type": "code",
   "execution_count": 14,
   "id": "27773946",
   "metadata": {},
   "outputs": [
    {
     "name": "stdout",
     "output_type": "stream",
     "text": [
      "8.79 µs ± 70.7 ns per loop (mean ± std. dev. of 7 runs, 100,000 loops each)\n"
     ]
    }
   ],
   "source": [
    "# Testing to see how long the np.random fx takes\n",
    "%timeit np.random.uniform(-90.000, 90.000, size=1500)"
   ]
  },
  {
   "cell_type": "code",
   "execution_count": 15,
   "id": "1e08bc14",
   "metadata": {},
   "outputs": [
    {
     "name": "stdout",
     "output_type": "stream",
     "text": [
      "941 µs ± 11.4 µs per loop (mean ± std. dev. of 7 runs, 1,000 loops each)\n"
     ]
    }
   ],
   "source": [
    "# Testing to see how the normal random fx takes\n",
    "def latitudes(size):\n",
    "    latitudes = []\n",
    "    x = 0\n",
    "    while x < (size):\n",
    "        random_lat = random.randint(-90, 90) + random.random()\n",
    "        latitudes.append(random_lat)\n",
    "        x += 1\n",
    "    return latitudes\n",
    "# Call the function with 1500.\n",
    "%timeit latitudes(1500)"
   ]
  },
  {
   "cell_type": "code",
   "execution_count": null,
   "id": "098c9019",
   "metadata": {},
   "outputs": [],
   "source": []
  }
 ],
 "metadata": {
  "kernelspec": {
   "display_name": "PythonData",
   "language": "python",
   "name": "pythondata"
  },
  "language_info": {
   "codemirror_mode": {
    "name": "ipython",
    "version": 3
   },
   "file_extension": ".py",
   "mimetype": "text/x-python",
   "name": "python",
   "nbconvert_exporter": "python",
   "pygments_lexer": "ipython3",
   "version": "3.9.7"
  }
 },
 "nbformat": 4,
 "nbformat_minor": 5
}
